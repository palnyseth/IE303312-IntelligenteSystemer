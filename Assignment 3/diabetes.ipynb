{
  "nbformat": 4,
  "nbformat_minor": 0,
  "metadata": {
    "colab": {
      "name": "diabetes.ipynb",
      "provenance": [],
      "collapsed_sections": []
    },
    "kernelspec": {
      "name": "python3",
      "display_name": "Python 3"
    }
  },
  "cells": [
    {
      "cell_type": "markdown",
      "metadata": {
        "id": "CoqXd-9NPRin"
      },
      "source": [
        "#Imports and setup"
      ]
    },
    {
      "cell_type": "code",
      "metadata": {
        "id": "0k4NhPnUvJ6e"
      },
      "source": [
        "#imports\n",
        "\n",
        "#div\n",
        "import pandas as pd\n",
        "import numpy as np\n",
        "import matplotlib.pyplot as plt\n",
        "from matplotlib.colors import ListedColormap\n",
        "import itertools\n",
        "import seaborn\n",
        "import cv2   #openCV\n",
        "\n",
        "\n",
        "#sklearn\n",
        "from sklearn.datasets import load_diabetes\n",
        "from sklearn.preprocessing import MinMaxScaler, StandardScaler\n",
        "from sklearn.model_selection import train_test_split\n",
        "from sklearn.metrics import accuracy_score, confusion_matrix, precision_score, recall_score, classification_report\n",
        "from sklearn.linear_model import LogisticRegression, LinearRegression, SGDClassifier\n",
        "from sklearn.cluster import KMeans\n",
        "from sklearn.neural_network import MLPClassifier\n",
        "from sklearn.preprocessing import MinMaxScaler\n",
        "from sklearn.decomposition import PCA\n",
        "from sklearn.feature_selection import chi2, SelectKBest, f_regression\n",
        "from sklearn.svm import SVC\n",
        "from sklearn.datasets import load_digits\n",
        "\n",
        "#tensorflow\n",
        "from tensorflow.python.keras.layers import Dense, InputLayer\n",
        "from tensorflow.python.keras.models import Sequential\n",
        "from tensorflow.keras.regularizers import l2\n",
        "from tensorflow.keras.utils import plot_model\n",
        "\n",
        "#keras\n",
        "from keras.optimizers import SGD\n",
        "from keras.models import Sequential, Model\n",
        "from keras.layers import Input, Dense"
      ],
      "execution_count": null,
      "outputs": []
    },
    {
      "cell_type": "code",
      "metadata": {
        "id": "XSULegaIHSd9"
      },
      "source": [
        "#load dataset\n",
        "data = load_diabetes()\n",
        "x, y = data['data'], data['target']"
      ],
      "execution_count": null,
      "outputs": []
    },
    {
      "cell_type": "code",
      "metadata": {
        "id": "dK3eIXa3HoZL",
        "colab": {
          "base_uri": "https://localhost:8080/"
        },
        "outputId": "c8463ee3-c2aa-47aa-baba-1dda13e06df8"
      },
      "source": [
        "#print some info retrieved from dataset\n",
        "#Lists all the various features in the dataset (column names)\n",
        "print('List of features:',data[\"feature_names\"])"
      ],
      "execution_count": null,
      "outputs": [
        {
          "output_type": "stream",
          "text": [
            "List of features: ['age', 'sex', 'bmi', 'bp', 's1', 's2', 's3', 's4', 's5', 's6']\n"
          ],
          "name": "stdout"
        }
      ]
    },
    {
      "cell_type": "markdown",
      "metadata": {
        "id": "zrJh8b1lDhKD"
      },
      "source": [
        "#Splitting and standarization"
      ]
    },
    {
      "cell_type": "markdown",
      "metadata": {
        "id": "CW1IFVz-PYew"
      },
      "source": [
        "We now have to split our data into two groups, one for testing and one for training.\n",
        "\n",
        "In addition to this we will also have to standarize the dataset. This to get the correct range (0, 1) and not (-1, 1)."
      ]
    },
    {
      "cell_type": "code",
      "metadata": {
        "id": "SuMS-2Z5Dm3Y"
      },
      "source": [
        "#Define the default variables\n",
        "x_train, x_test, y_train, y_test = train_test_split(x, y, test_size=0.2)"
      ],
      "execution_count": null,
      "outputs": []
    },
    {
      "cell_type": "markdown",
      "metadata": {
        "id": "gebxQJuWW0hL"
      },
      "source": [
        "Converting to classification"
      ]
    },
    {
      "cell_type": "code",
      "metadata": {
        "id": "7ELAJ6VUL8k_"
      },
      "source": [
        "#To convert into classification, could also create into it's own separate helper function.\n",
        "#Takes the input array containing zeros.\n",
        "#If the element is larger than 140 the value of the element in the array will be set to 1, else 0.\n",
        "y_conv = np.zeros(y.shape)\n",
        "y_conv[y > 140] = 1.\n",
        "y_conv = y_conv.astype(int) #Sets to integer datatype.\n",
        "\n",
        "def class_cnv(target, threshold):\n",
        "    result = np.zeros(len(target))\n",
        "    for i in range(len(target)):\n",
        "        if target >= threshold:\n",
        "            result[i] = 1\n",
        "    return result"
      ],
      "execution_count": null,
      "outputs": []
    },
    {
      "cell_type": "code",
      "metadata": {
        "id": "hrYuSJDKL9dn"
      },
      "source": [
        "#To split the data into two sets, one for training and other for testing.\n",
        "#Ratio for now is 80/20, 80% going to training, rest to testing\n",
        "x_train_split, x_test_split, y_train_split, y_test_split = train_test_split(x, y_conv, test_size=0.2, random_state=42, stratify=y_conv)"
      ],
      "execution_count": null,
      "outputs": []
    },
    {
      "cell_type": "code",
      "metadata": {
        "id": "GurzR-_6LEy5"
      },
      "source": [
        "#To achieve the correct scaling we have to standarize the dataset so that the range is 0 to 1, and not -1 to 1). \n",
        "min_max_scaler = MinMaxScaler(feature_range=(0,1))\n",
        "x_train_split_standarized = min_max_scaler.fit_transform(x_train_split)\n",
        "x_test_split_standarized  = min_max_scaler.fit_transform(x_test_split)"
      ],
      "execution_count": null,
      "outputs": []
    },
    {
      "cell_type": "markdown",
      "metadata": {
        "id": "KTWARM5Ozb7c"
      },
      "source": [
        "#Training & plots\n"
      ]
    },
    {
      "cell_type": "code",
      "metadata": {
        "id": "oOnN30Q865cH"
      },
      "source": [
        "def feature_selection(train_data, y_data, test_data, n_features='all', regression=True):\n",
        "    score_function = f_regression\n",
        "    if (regression):\n",
        "        score_function = chi2\n",
        "\n",
        "\n",
        "    kbest = SelectKBest(score_func=score_function, k=n_features)\n",
        "    kbest.fit(train_data, y_data)\n",
        "    \n",
        "    x_train_kbest = kbest.transform(train_data)\n",
        "    x_test_kbest = kbest.transform(test_data)\n",
        "\n",
        "    return x_train_kbest, x_test_kbest, kbest"
      ],
      "execution_count": null,
      "outputs": []
    },
    {
      "cell_type": "code",
      "metadata": {
        "id": "AWCK3UFC7_Wu"
      },
      "source": [
        "def plot_kbest(scores):\n",
        "    plt.bar([i for i in range(len(scores))], scores)\n",
        "    plt.title('Score value of each feature')\n",
        "    plt.xlabel('Feature')\n",
        "    plt.ylabel('Score')\n",
        "    plt.show()"
      ],
      "execution_count": null,
      "outputs": []
    },
    {
      "cell_type": "code",
      "metadata": {
        "id": "3hDODQft4FNx",
        "colab": {
          "base_uri": "https://localhost:8080/",
          "height": 297
        },
        "outputId": "0aaad7bc-41fc-434a-ae2d-61051690c47b"
      },
      "source": [
        "\n",
        "\n",
        "x_train_features = x_train_split_standarized\n",
        "y_train_features = y_train_split\n",
        "x_test_features = x_test_split_standarized\n",
        "\n",
        "x_train_kbest, x_test_kbest, kbest = feature_selection(x_train_features, y_train_features, x_test_features)\n",
        "plot_kbest(kbest.scores_)\n"
      ],
      "execution_count": null,
      "outputs": [
        {
          "output_type": "display_data",
          "data": {
            "image/png": "[encoded data removed]",
            "text/plain": [
              "<Figure size 432x288 with 1 Axes>"
            ]
          },
          "metadata": {
            "tags": [],
            "needs_background": "light"
          }
        }
      ]
    },
    {
      "cell_type": "markdown",
      "metadata": {
        "id": "VIOkYAy18YJk"
      },
      "source": [
        "#ANN"
      ]
    },
    {
      "cell_type": "code",
      "metadata": {
        "id": "YezHo0aN8Zh8"
      },
      "source": [
        "x_train = x_train_kbest\n",
        "x_test = x_test_kbest\n",
        "y_train = y_train_split\n",
        "y_test = y_test_split"
      ],
      "execution_count": null,
      "outputs": []
    },
    {
      "cell_type": "code",
      "metadata": {
        "id": "i-2g7ZCr8gKb"
      },
      "source": [
        "predicter = Sequential()\n",
        "\n",
        "#predicter.add(Dense(units=features*2, activation='relu', input_dim=features, name='Input'))\n",
        "predicter.add(Dense(units=10, activation='relu', name='Hidden1'))\n",
        "predicter.add(Dense(units=5, activation='relu', name='Hidden2'))\n",
        "predicter.add(Dense(units=1, activation='sigmoid', name='Output'))\n",
        "predicter.compile(optimizer='nadam', loss='binary_crossentropy', metrics=['accuracy'])"
      ],
      "execution_count": null,
      "outputs": []
    },
    {
      "cell_type": "code",
      "metadata": {
        "id": "Zdpv1-vM8n39",
        "colab": {
          "base_uri": "https://localhost:8080/"
        },
        "outputId": "f06e6059-6727-4a75-f27e-7755a5b8f462"
      },
      "source": [
        "trained_data = predicter.fit(x = x_train, y = y_train, epochs=200, batch_size=64, shuffle=True, validation_data=(x_test, y_test), verbose=1)"
      ],
      "execution_count": null,
      "outputs": [
        {
          "output_type": "stream",
          "text": [
            "Epoch 1/200\n",
            "6/6 [==============================] - 0s 22ms/step - loss: 0.6755 - accuracy: 0.5977 - val_loss: 0.6675 - val_accuracy: 0.5618\n",
            "Epoch 2/200\n",
            "6/6 [==============================] - 0s 4ms/step - loss: 0.6732 - accuracy: 0.5977 - val_loss: 0.6652 - val_accuracy: 0.5843\n",
            "Epoch 3/200\n",
            "6/6 [==============================] - 0s 4ms/step - loss: 0.6706 - accuracy: 0.6091 - val_loss: 0.6628 - val_accuracy: 0.6067\n",
            "Epoch 4/200\n",
            "6/6 [==============================] - 0s 5ms/step - loss: 0.6681 - accuracy: 0.6062 - val_loss: 0.6602 - val_accuracy: 0.6292\n",
            "Epoch 5/200\n",
            "6/6 [==============================] - 0s 4ms/step - loss: 0.6658 - accuracy: 0.6006 - val_loss: 0.6578 - val_accuracy: 0.6404\n",
            "Epoch 6/200\n",
            "6/6 [==============================] - 0s 4ms/step - loss: 0.6638 - accuracy: 0.6006 - val_loss: 0.6554 - val_accuracy: 0.6517\n",
            "Epoch 7/200\n",
            "6/6 [==============================] - 0s 4ms/step - loss: 0.6617 - accuracy: 0.6034 - val_loss: 0.6529 - val_accuracy: 0.6404\n",
            "Epoch 8/200\n",
            "6/6 [==============================] - 0s 4ms/step - loss: 0.6596 - accuracy: 0.6119 - val_loss: 0.6504 - val_accuracy: 0.6404\n",
            "Epoch 9/200\n",
            "6/6 [==============================] - 0s 4ms/step - loss: 0.6577 - accuracy: 0.6204 - val_loss: 0.6479 - val_accuracy: 0.6517\n",
            "Epoch 10/200\n",
            "6/6 [==============================] - 0s 4ms/step - loss: 0.6556 - accuracy: 0.6204 - val_loss: 0.6453 - val_accuracy: 0.6517\n",
            "Epoch 11/200\n",
            "6/6 [==============================] - 0s 4ms/step - loss: 0.6536 - accuracy: 0.6232 - val_loss: 0.6426 - val_accuracy: 0.6517\n",
            "Epoch 12/200\n",
            "6/6 [==============================] - 0s 4ms/step - loss: 0.6514 - accuracy: 0.6261 - val_loss: 0.6394 - val_accuracy: 0.6742\n",
            "Epoch 13/200\n",
            "6/6 [==============================] - 0s 4ms/step - loss: 0.6486 - accuracy: 0.6374 - val_loss: 0.6353 - val_accuracy: 0.6854\n",
            "Epoch 14/200\n",
            "6/6 [==============================] - 0s 4ms/step - loss: 0.6456 - accuracy: 0.6402 - val_loss: 0.6308 - val_accuracy: 0.6966\n",
            "Epoch 15/200\n",
            "6/6 [==============================] - 0s 5ms/step - loss: 0.6426 - accuracy: 0.6431 - val_loss: 0.6263 - val_accuracy: 0.6854\n",
            "Epoch 16/200\n",
            "6/6 [==============================] - 0s 4ms/step - loss: 0.6391 - accuracy: 0.6487 - val_loss: 0.6220 - val_accuracy: 0.7079\n",
            "Epoch 17/200\n",
            "6/6 [==============================] - 0s 4ms/step - loss: 0.6353 - accuracy: 0.6629 - val_loss: 0.6177 - val_accuracy: 0.6966\n",
            "Epoch 18/200\n",
            "6/6 [==============================] - 0s 4ms/step - loss: 0.6322 - accuracy: 0.6827 - val_loss: 0.6136 - val_accuracy: 0.7079\n",
            "Epoch 19/200\n",
            "6/6 [==============================] - 0s 4ms/step - loss: 0.6292 - accuracy: 0.6827 - val_loss: 0.6101 - val_accuracy: 0.7079\n",
            "Epoch 20/200\n",
            "6/6 [==============================] - 0s 4ms/step - loss: 0.6256 - accuracy: 0.6941 - val_loss: 0.6065 - val_accuracy: 0.7191\n",
            "Epoch 21/200\n",
            "6/6 [==============================] - 0s 4ms/step - loss: 0.6223 - accuracy: 0.6742 - val_loss: 0.6033 - val_accuracy: 0.7303\n",
            "Epoch 22/200\n",
            "6/6 [==============================] - 0s 4ms/step - loss: 0.6196 - accuracy: 0.6941 - val_loss: 0.6001 - val_accuracy: 0.7416\n",
            "Epoch 23/200\n",
            "6/6 [==============================] - 0s 4ms/step - loss: 0.6165 - accuracy: 0.6827 - val_loss: 0.5970 - val_accuracy: 0.7416\n",
            "Epoch 24/200\n",
            "6/6 [==============================] - 0s 4ms/step - loss: 0.6143 - accuracy: 0.6799 - val_loss: 0.5942 - val_accuracy: 0.7416\n",
            "Epoch 25/200\n",
            "6/6 [==============================] - 0s 4ms/step - loss: 0.6111 - accuracy: 0.6884 - val_loss: 0.5913 - val_accuracy: 0.7416\n",
            "Epoch 26/200\n",
            "6/6 [==============================] - 0s 4ms/step - loss: 0.6089 - accuracy: 0.6884 - val_loss: 0.5884 - val_accuracy: 0.7416\n",
            "Epoch 27/200\n",
            "6/6 [==============================] - 0s 4ms/step - loss: 0.6060 - accuracy: 0.6884 - val_loss: 0.5857 - val_accuracy: 0.7528\n",
            "Epoch 28/200\n",
            "6/6 [==============================] - 0s 4ms/step - loss: 0.6042 - accuracy: 0.6997 - val_loss: 0.5831 - val_accuracy: 0.7528\n",
            "Epoch 29/200\n",
            "6/6 [==============================] - 0s 4ms/step - loss: 0.6011 - accuracy: 0.7025 - val_loss: 0.5801 - val_accuracy: 0.7528\n",
            "Epoch 30/200\n",
            "6/6 [==============================] - 0s 6ms/step - loss: 0.5983 - accuracy: 0.6884 - val_loss: 0.5775 - val_accuracy: 0.7528\n",
            "Epoch 31/200\n",
            "6/6 [==============================] - 0s 5ms/step - loss: 0.5953 - accuracy: 0.6969 - val_loss: 0.5749 - val_accuracy: 0.7528\n",
            "Epoch 32/200\n",
            "6/6 [==============================] - 0s 4ms/step - loss: 0.5928 - accuracy: 0.7054 - val_loss: 0.5722 - val_accuracy: 0.7528\n",
            "Epoch 33/200\n",
            "6/6 [==============================] - 0s 4ms/step - loss: 0.5904 - accuracy: 0.7054 - val_loss: 0.5696 - val_accuracy: 0.7416\n",
            "Epoch 34/200\n",
            "6/6 [==============================] - 0s 4ms/step - loss: 0.5880 - accuracy: 0.6941 - val_loss: 0.5671 - val_accuracy: 0.7416\n",
            "Epoch 35/200\n",
            "6/6 [==============================] - 0s 4ms/step - loss: 0.5848 - accuracy: 0.7025 - val_loss: 0.5644 - val_accuracy: 0.7416\n",
            "Epoch 36/200\n",
            "6/6 [==============================] - 0s 4ms/step - loss: 0.5821 - accuracy: 0.6997 - val_loss: 0.5616 - val_accuracy: 0.7416\n",
            "Epoch 37/200\n",
            "6/6 [==============================] - 0s 4ms/step - loss: 0.5786 - accuracy: 0.7054 - val_loss: 0.5589 - val_accuracy: 0.7416\n",
            "Epoch 38/200\n",
            "6/6 [==============================] - 0s 4ms/step - loss: 0.5759 - accuracy: 0.7110 - val_loss: 0.5560 - val_accuracy: 0.7416\n",
            "Epoch 39/200\n",
            "6/6 [==============================] - 0s 4ms/step - loss: 0.5734 - accuracy: 0.7167 - val_loss: 0.5530 - val_accuracy: 0.7416\n",
            "Epoch 40/200\n",
            "6/6 [==============================] - 0s 5ms/step - loss: 0.5696 - accuracy: 0.7167 - val_loss: 0.5496 - val_accuracy: 0.7303\n",
            "Epoch 41/200\n",
            "6/6 [==============================] - 0s 5ms/step - loss: 0.5667 - accuracy: 0.7252 - val_loss: 0.5472 - val_accuracy: 0.7303\n",
            "Epoch 42/200\n",
            "6/6 [==============================] - 0s 5ms/step - loss: 0.5642 - accuracy: 0.7280 - val_loss: 0.5443 - val_accuracy: 0.7416\n",
            "Epoch 43/200\n",
            "6/6 [==============================] - 0s 4ms/step - loss: 0.5610 - accuracy: 0.7365 - val_loss: 0.5419 - val_accuracy: 0.7416\n",
            "Epoch 44/200\n",
            "6/6 [==============================] - 0s 4ms/step - loss: 0.5585 - accuracy: 0.7309 - val_loss: 0.5394 - val_accuracy: 0.7416\n",
            "Epoch 45/200\n",
            "6/6 [==============================] - 0s 4ms/step - loss: 0.5548 - accuracy: 0.7280 - val_loss: 0.5371 - val_accuracy: 0.7416\n",
            "Epoch 46/200\n",
            "6/6 [==============================] - 0s 4ms/step - loss: 0.5526 - accuracy: 0.7139 - val_loss: 0.5345 - val_accuracy: 0.7416\n",
            "Epoch 47/200\n",
            "6/6 [==============================] - 0s 4ms/step - loss: 0.5494 - accuracy: 0.7337 - val_loss: 0.5322 - val_accuracy: 0.7416\n",
            "Epoch 48/200\n",
            "6/6 [==============================] - 0s 5ms/step - loss: 0.5469 - accuracy: 0.7280 - val_loss: 0.5302 - val_accuracy: 0.7416\n",
            "Epoch 49/200\n",
            "6/6 [==============================] - 0s 5ms/step - loss: 0.5438 - accuracy: 0.7337 - val_loss: 0.5281 - val_accuracy: 0.7416\n",
            "Epoch 50/200\n",
            "6/6 [==============================] - 0s 4ms/step - loss: 0.5419 - accuracy: 0.7337 - val_loss: 0.5260 - val_accuracy: 0.7416\n",
            "Epoch 51/200\n",
            "6/6 [==============================] - 0s 4ms/step - loss: 0.5399 - accuracy: 0.7337 - val_loss: 0.5243 - val_accuracy: 0.7640\n",
            "Epoch 52/200\n",
            "6/6 [==============================] - 0s 5ms/step - loss: 0.5365 - accuracy: 0.7252 - val_loss: 0.5223 - val_accuracy: 0.7528\n",
            "Epoch 53/200\n",
            "6/6 [==============================] - 0s 4ms/step - loss: 0.5348 - accuracy: 0.7224 - val_loss: 0.5207 - val_accuracy: 0.7640\n",
            "Epoch 54/200\n",
            "6/6 [==============================] - 0s 4ms/step - loss: 0.5319 - accuracy: 0.7309 - val_loss: 0.5195 - val_accuracy: 0.7528\n",
            "Epoch 55/200\n",
            "6/6 [==============================] - 0s 4ms/step - loss: 0.5304 - accuracy: 0.7280 - val_loss: 0.5183 - val_accuracy: 0.7640\n",
            "Epoch 56/200\n",
            "6/6 [==============================] - 0s 4ms/step - loss: 0.5277 - accuracy: 0.7252 - val_loss: 0.5169 - val_accuracy: 0.7528\n",
            "Epoch 57/200\n",
            "6/6 [==============================] - 0s 5ms/step - loss: 0.5247 - accuracy: 0.7337 - val_loss: 0.5157 - val_accuracy: 0.7640\n",
            "Epoch 58/200\n",
            "6/6 [==============================] - 0s 4ms/step - loss: 0.5235 - accuracy: 0.7337 - val_loss: 0.5156 - val_accuracy: 0.7416\n",
            "Epoch 59/200\n",
            "6/6 [==============================] - 0s 4ms/step - loss: 0.5200 - accuracy: 0.7365 - val_loss: 0.5149 - val_accuracy: 0.7416\n",
            "Epoch 60/200\n",
            "6/6 [==============================] - 0s 4ms/step - loss: 0.5191 - accuracy: 0.7422 - val_loss: 0.5137 - val_accuracy: 0.7528\n",
            "Epoch 61/200\n",
            "6/6 [==============================] - 0s 4ms/step - loss: 0.5164 - accuracy: 0.7365 - val_loss: 0.5133 - val_accuracy: 0.7528\n",
            "Epoch 62/200\n",
            "6/6 [==============================] - 0s 4ms/step - loss: 0.5151 - accuracy: 0.7337 - val_loss: 0.5129 - val_accuracy: 0.7528\n",
            "Epoch 63/200\n",
            "6/6 [==============================] - 0s 4ms/step - loss: 0.5141 - accuracy: 0.7422 - val_loss: 0.5125 - val_accuracy: 0.7528\n",
            "Epoch 64/200\n",
            "6/6 [==============================] - 0s 4ms/step - loss: 0.5109 - accuracy: 0.7450 - val_loss: 0.5141 - val_accuracy: 0.7416\n",
            "Epoch 65/200\n",
            "6/6 [==============================] - 0s 4ms/step - loss: 0.5088 - accuracy: 0.7394 - val_loss: 0.5147 - val_accuracy: 0.7303\n",
            "Epoch 66/200\n",
            "6/6 [==============================] - 0s 5ms/step - loss: 0.5075 - accuracy: 0.7394 - val_loss: 0.5135 - val_accuracy: 0.7416\n",
            "Epoch 67/200\n",
            "6/6 [==============================] - 0s 4ms/step - loss: 0.5060 - accuracy: 0.7365 - val_loss: 0.5124 - val_accuracy: 0.7303\n",
            "Epoch 68/200\n",
            "6/6 [==============================] - 0s 4ms/step - loss: 0.5045 - accuracy: 0.7394 - val_loss: 0.5114 - val_accuracy: 0.7191\n",
            "Epoch 69/200\n",
            "6/6 [==============================] - 0s 4ms/step - loss: 0.5037 - accuracy: 0.7422 - val_loss: 0.5110 - val_accuracy: 0.7191\n",
            "Epoch 70/200\n",
            "6/6 [==============================] - 0s 4ms/step - loss: 0.5010 - accuracy: 0.7422 - val_loss: 0.5112 - val_accuracy: 0.7191\n",
            "Epoch 71/200\n",
            "6/6 [==============================] - 0s 4ms/step - loss: 0.5005 - accuracy: 0.7337 - val_loss: 0.5119 - val_accuracy: 0.7303\n",
            "Epoch 72/200\n",
            "6/6 [==============================] - 0s 4ms/step - loss: 0.4992 - accuracy: 0.7337 - val_loss: 0.5115 - val_accuracy: 0.7303\n",
            "Epoch 73/200\n",
            "6/6 [==============================] - 0s 4ms/step - loss: 0.4977 - accuracy: 0.7422 - val_loss: 0.5110 - val_accuracy: 0.7191\n",
            "Epoch 74/200\n",
            "6/6 [==============================] - 0s 4ms/step - loss: 0.4969 - accuracy: 0.7394 - val_loss: 0.5101 - val_accuracy: 0.7079\n",
            "Epoch 75/200\n",
            "6/6 [==============================] - 0s 4ms/step - loss: 0.4954 - accuracy: 0.7422 - val_loss: 0.5089 - val_accuracy: 0.7191\n",
            "Epoch 76/200\n",
            "6/6 [==============================] - 0s 5ms/step - loss: 0.4946 - accuracy: 0.7450 - val_loss: 0.5095 - val_accuracy: 0.7079\n",
            "Epoch 77/200\n",
            "6/6 [==============================] - 0s 5ms/step - loss: 0.4950 - accuracy: 0.7394 - val_loss: 0.5102 - val_accuracy: 0.7079\n",
            "Epoch 78/200\n",
            "6/6 [==============================] - 0s 5ms/step - loss: 0.4927 - accuracy: 0.7450 - val_loss: 0.5132 - val_accuracy: 0.7191\n",
            "Epoch 79/200\n",
            "6/6 [==============================] - 0s 5ms/step - loss: 0.4918 - accuracy: 0.7337 - val_loss: 0.5102 - val_accuracy: 0.7079\n",
            "Epoch 80/200\n",
            "6/6 [==============================] - 0s 5ms/step - loss: 0.4921 - accuracy: 0.7564 - val_loss: 0.5101 - val_accuracy: 0.7079\n",
            "Epoch 81/200\n",
            "6/6 [==============================] - 0s 4ms/step - loss: 0.4902 - accuracy: 0.7450 - val_loss: 0.5105 - val_accuracy: 0.7303\n",
            "Epoch 82/200\n",
            "6/6 [==============================] - 0s 5ms/step - loss: 0.4895 - accuracy: 0.7479 - val_loss: 0.5105 - val_accuracy: 0.7303\n",
            "Epoch 83/200\n",
            "6/6 [==============================] - 0s 6ms/step - loss: 0.4895 - accuracy: 0.7450 - val_loss: 0.5147 - val_accuracy: 0.7303\n",
            "Epoch 84/200\n",
            "6/6 [==============================] - 0s 5ms/step - loss: 0.4888 - accuracy: 0.7337 - val_loss: 0.5117 - val_accuracy: 0.7303\n",
            "Epoch 85/200\n",
            "6/6 [==============================] - 0s 5ms/step - loss: 0.4881 - accuracy: 0.7450 - val_loss: 0.5134 - val_accuracy: 0.7303\n",
            "Epoch 86/200\n",
            "6/6 [==============================] - 0s 5ms/step - loss: 0.4868 - accuracy: 0.7479 - val_loss: 0.5110 - val_accuracy: 0.7303\n",
            "Epoch 87/200\n",
            "6/6 [==============================] - 0s 4ms/step - loss: 0.4865 - accuracy: 0.7394 - val_loss: 0.5100 - val_accuracy: 0.7303\n",
            "Epoch 88/200\n",
            "6/6 [==============================] - 0s 4ms/step - loss: 0.4856 - accuracy: 0.7394 - val_loss: 0.5096 - val_accuracy: 0.7416\n",
            "Epoch 89/200\n",
            "6/6 [==============================] - 0s 4ms/step - loss: 0.4847 - accuracy: 0.7479 - val_loss: 0.5106 - val_accuracy: 0.7303\n",
            "Epoch 90/200\n",
            "6/6 [==============================] - 0s 5ms/step - loss: 0.4848 - accuracy: 0.7479 - val_loss: 0.5115 - val_accuracy: 0.7303\n",
            "Epoch 91/200\n",
            "6/6 [==============================] - 0s 4ms/step - loss: 0.4833 - accuracy: 0.7450 - val_loss: 0.5116 - val_accuracy: 0.7303\n",
            "Epoch 92/200\n",
            "6/6 [==============================] - 0s 5ms/step - loss: 0.4839 - accuracy: 0.7507 - val_loss: 0.5115 - val_accuracy: 0.7303\n",
            "Epoch 93/200\n",
            "6/6 [==============================] - 0s 5ms/step - loss: 0.4835 - accuracy: 0.7507 - val_loss: 0.5135 - val_accuracy: 0.7303\n",
            "Epoch 94/200\n",
            "6/6 [==============================] - 0s 4ms/step - loss: 0.4827 - accuracy: 0.7450 - val_loss: 0.5121 - val_accuracy: 0.7416\n",
            "Epoch 95/200\n",
            "6/6 [==============================] - 0s 4ms/step - loss: 0.4824 - accuracy: 0.7535 - val_loss: 0.5135 - val_accuracy: 0.7303\n",
            "Epoch 96/200\n",
            "6/6 [==============================] - 0s 5ms/step - loss: 0.4817 - accuracy: 0.7450 - val_loss: 0.5144 - val_accuracy: 0.7191\n",
            "Epoch 97/200\n",
            "6/6 [==============================] - 0s 5ms/step - loss: 0.4825 - accuracy: 0.7450 - val_loss: 0.5132 - val_accuracy: 0.7303\n",
            "Epoch 98/200\n",
            "6/6 [==============================] - 0s 4ms/step - loss: 0.4810 - accuracy: 0.7507 - val_loss: 0.5143 - val_accuracy: 0.7303\n",
            "Epoch 99/200\n",
            "6/6 [==============================] - 0s 5ms/step - loss: 0.4802 - accuracy: 0.7535 - val_loss: 0.5132 - val_accuracy: 0.7416\n",
            "Epoch 100/200\n",
            "6/6 [==============================] - 0s 4ms/step - loss: 0.4813 - accuracy: 0.7422 - val_loss: 0.5125 - val_accuracy: 0.7303\n",
            "Epoch 101/200\n",
            "6/6 [==============================] - 0s 4ms/step - loss: 0.4806 - accuracy: 0.7507 - val_loss: 0.5124 - val_accuracy: 0.7303\n",
            "Epoch 102/200\n",
            "6/6 [==============================] - 0s 4ms/step - loss: 0.4813 - accuracy: 0.7507 - val_loss: 0.5131 - val_accuracy: 0.7303\n",
            "Epoch 103/200\n",
            "6/6 [==============================] - 0s 5ms/step - loss: 0.4810 - accuracy: 0.7535 - val_loss: 0.5143 - val_accuracy: 0.7416\n",
            "Epoch 104/200\n",
            "6/6 [==============================] - 0s 5ms/step - loss: 0.4794 - accuracy: 0.7535 - val_loss: 0.5152 - val_accuracy: 0.7416\n",
            "Epoch 105/200\n",
            "6/6 [==============================] - 0s 4ms/step - loss: 0.4789 - accuracy: 0.7564 - val_loss: 0.5150 - val_accuracy: 0.7416\n",
            "Epoch 106/200\n",
            "6/6 [==============================] - 0s 4ms/step - loss: 0.4783 - accuracy: 0.7535 - val_loss: 0.5139 - val_accuracy: 0.7303\n",
            "Epoch 107/200\n",
            "6/6 [==============================] - 0s 4ms/step - loss: 0.4779 - accuracy: 0.7535 - val_loss: 0.5159 - val_accuracy: 0.7416\n",
            "Epoch 108/200\n",
            "6/6 [==============================] - 0s 5ms/step - loss: 0.4777 - accuracy: 0.7535 - val_loss: 0.5157 - val_accuracy: 0.7416\n",
            "Epoch 109/200\n",
            "6/6 [==============================] - 0s 5ms/step - loss: 0.4775 - accuracy: 0.7507 - val_loss: 0.5175 - val_accuracy: 0.7079\n",
            "Epoch 110/200\n",
            "6/6 [==============================] - 0s 5ms/step - loss: 0.4778 - accuracy: 0.7564 - val_loss: 0.5173 - val_accuracy: 0.7303\n",
            "Epoch 111/200\n",
            "6/6 [==============================] - 0s 5ms/step - loss: 0.4776 - accuracy: 0.7479 - val_loss: 0.5180 - val_accuracy: 0.7191\n",
            "Epoch 112/200\n",
            "6/6 [==============================] - 0s 4ms/step - loss: 0.4786 - accuracy: 0.7450 - val_loss: 0.5155 - val_accuracy: 0.7303\n",
            "Epoch 113/200\n",
            "6/6 [==============================] - 0s 4ms/step - loss: 0.4769 - accuracy: 0.7535 - val_loss: 0.5176 - val_accuracy: 0.7416\n",
            "Epoch 114/200\n",
            "6/6 [==============================] - 0s 4ms/step - loss: 0.4774 - accuracy: 0.7592 - val_loss: 0.5208 - val_accuracy: 0.7079\n",
            "Epoch 115/200\n",
            "6/6 [==============================] - 0s 4ms/step - loss: 0.4761 - accuracy: 0.7479 - val_loss: 0.5184 - val_accuracy: 0.7416\n",
            "Epoch 116/200\n",
            "6/6 [==============================] - 0s 5ms/step - loss: 0.4754 - accuracy: 0.7564 - val_loss: 0.5187 - val_accuracy: 0.7416\n",
            "Epoch 117/200\n",
            "6/6 [==============================] - 0s 5ms/step - loss: 0.4754 - accuracy: 0.7592 - val_loss: 0.5201 - val_accuracy: 0.7079\n",
            "Epoch 118/200\n",
            "6/6 [==============================] - 0s 6ms/step - loss: 0.4755 - accuracy: 0.7507 - val_loss: 0.5217 - val_accuracy: 0.7079\n",
            "Epoch 119/200\n",
            "6/6 [==============================] - 0s 4ms/step - loss: 0.4752 - accuracy: 0.7479 - val_loss: 0.5207 - val_accuracy: 0.7191\n",
            "Epoch 120/200\n",
            "6/6 [==============================] - 0s 4ms/step - loss: 0.4748 - accuracy: 0.7535 - val_loss: 0.5205 - val_accuracy: 0.7303\n",
            "Epoch 121/200\n",
            "6/6 [==============================] - 0s 4ms/step - loss: 0.4745 - accuracy: 0.7507 - val_loss: 0.5212 - val_accuracy: 0.7191\n",
            "Epoch 122/200\n",
            "6/6 [==============================] - 0s 4ms/step - loss: 0.4754 - accuracy: 0.7564 - val_loss: 0.5178 - val_accuracy: 0.7303\n",
            "Epoch 123/200\n",
            "6/6 [==============================] - 0s 5ms/step - loss: 0.4760 - accuracy: 0.7535 - val_loss: 0.5186 - val_accuracy: 0.7416\n",
            "Epoch 124/200\n",
            "6/6 [==============================] - 0s 5ms/step - loss: 0.4750 - accuracy: 0.7564 - val_loss: 0.5182 - val_accuracy: 0.7416\n",
            "Epoch 125/200\n",
            "6/6 [==============================] - 0s 5ms/step - loss: 0.4745 - accuracy: 0.7620 - val_loss: 0.5204 - val_accuracy: 0.7303\n",
            "Epoch 126/200\n",
            "6/6 [==============================] - 0s 5ms/step - loss: 0.4739 - accuracy: 0.7479 - val_loss: 0.5188 - val_accuracy: 0.7416\n",
            "Epoch 127/200\n",
            "6/6 [==============================] - 0s 5ms/step - loss: 0.4744 - accuracy: 0.7535 - val_loss: 0.5196 - val_accuracy: 0.7416\n",
            "Epoch 128/200\n",
            "6/6 [==============================] - 0s 4ms/step - loss: 0.4736 - accuracy: 0.7535 - val_loss: 0.5197 - val_accuracy: 0.7416\n",
            "Epoch 129/200\n",
            "6/6 [==============================] - 0s 4ms/step - loss: 0.4739 - accuracy: 0.7592 - val_loss: 0.5198 - val_accuracy: 0.7416\n",
            "Epoch 130/200\n",
            "6/6 [==============================] - 0s 5ms/step - loss: 0.4750 - accuracy: 0.7535 - val_loss: 0.5195 - val_accuracy: 0.7416\n",
            "Epoch 131/200\n",
            "6/6 [==============================] - 0s 4ms/step - loss: 0.4755 - accuracy: 0.7507 - val_loss: 0.5230 - val_accuracy: 0.7303\n",
            "Epoch 132/200\n",
            "6/6 [==============================] - 0s 4ms/step - loss: 0.4749 - accuracy: 0.7535 - val_loss: 0.5218 - val_accuracy: 0.7303\n",
            "Epoch 133/200\n",
            "6/6 [==============================] - 0s 5ms/step - loss: 0.4741 - accuracy: 0.7535 - val_loss: 0.5209 - val_accuracy: 0.7303\n",
            "Epoch 134/200\n",
            "6/6 [==============================] - 0s 4ms/step - loss: 0.4724 - accuracy: 0.7564 - val_loss: 0.5221 - val_accuracy: 0.7303\n",
            "Epoch 135/200\n",
            "6/6 [==============================] - 0s 4ms/step - loss: 0.4727 - accuracy: 0.7592 - val_loss: 0.5222 - val_accuracy: 0.7303\n",
            "Epoch 136/200\n",
            "6/6 [==============================] - 0s 5ms/step - loss: 0.4736 - accuracy: 0.7535 - val_loss: 0.5229 - val_accuracy: 0.7303\n",
            "Epoch 137/200\n",
            "6/6 [==============================] - 0s 5ms/step - loss: 0.4736 - accuracy: 0.7535 - val_loss: 0.5220 - val_accuracy: 0.7303\n",
            "Epoch 138/200\n",
            "6/6 [==============================] - 0s 5ms/step - loss: 0.4720 - accuracy: 0.7592 - val_loss: 0.5217 - val_accuracy: 0.7303\n",
            "Epoch 139/200\n",
            "6/6 [==============================] - 0s 5ms/step - loss: 0.4736 - accuracy: 0.7564 - val_loss: 0.5204 - val_accuracy: 0.7416\n",
            "Epoch 140/200\n",
            "6/6 [==============================] - 0s 4ms/step - loss: 0.4721 - accuracy: 0.7535 - val_loss: 0.5204 - val_accuracy: 0.7416\n",
            "Epoch 141/200\n",
            "6/6 [==============================] - 0s 4ms/step - loss: 0.4720 - accuracy: 0.7535 - val_loss: 0.5217 - val_accuracy: 0.7303\n",
            "Epoch 142/200\n",
            "6/6 [==============================] - 0s 5ms/step - loss: 0.4715 - accuracy: 0.7535 - val_loss: 0.5236 - val_accuracy: 0.7191\n",
            "Epoch 143/200\n",
            "6/6 [==============================] - 0s 4ms/step - loss: 0.4718 - accuracy: 0.7592 - val_loss: 0.5247 - val_accuracy: 0.7191\n",
            "Epoch 144/200\n",
            "6/6 [==============================] - 0s 5ms/step - loss: 0.4732 - accuracy: 0.7564 - val_loss: 0.5259 - val_accuracy: 0.7191\n",
            "Epoch 145/200\n",
            "6/6 [==============================] - 0s 4ms/step - loss: 0.4723 - accuracy: 0.7592 - val_loss: 0.5232 - val_accuracy: 0.7303\n",
            "Epoch 146/200\n",
            "6/6 [==============================] - 0s 4ms/step - loss: 0.4714 - accuracy: 0.7592 - val_loss: 0.5240 - val_accuracy: 0.7191\n",
            "Epoch 147/200\n",
            "6/6 [==============================] - 0s 5ms/step - loss: 0.4729 - accuracy: 0.7535 - val_loss: 0.5219 - val_accuracy: 0.7303\n",
            "Epoch 148/200\n",
            "6/6 [==============================] - 0s 5ms/step - loss: 0.4711 - accuracy: 0.7592 - val_loss: 0.5212 - val_accuracy: 0.7416\n",
            "Epoch 149/200\n",
            "6/6 [==============================] - 0s 5ms/step - loss: 0.4712 - accuracy: 0.7507 - val_loss: 0.5223 - val_accuracy: 0.7416\n",
            "Epoch 150/200\n",
            "6/6 [==============================] - 0s 4ms/step - loss: 0.4710 - accuracy: 0.7564 - val_loss: 0.5247 - val_accuracy: 0.7191\n",
            "Epoch 151/200\n",
            "6/6 [==============================] - 0s 4ms/step - loss: 0.4714 - accuracy: 0.7592 - val_loss: 0.5257 - val_accuracy: 0.7191\n",
            "Epoch 152/200\n",
            "6/6 [==============================] - 0s 4ms/step - loss: 0.4710 - accuracy: 0.7620 - val_loss: 0.5238 - val_accuracy: 0.7303\n",
            "Epoch 153/200\n",
            "6/6 [==============================] - 0s 5ms/step - loss: 0.4709 - accuracy: 0.7592 - val_loss: 0.5234 - val_accuracy: 0.7303\n",
            "Epoch 154/200\n",
            "6/6 [==============================] - 0s 4ms/step - loss: 0.4708 - accuracy: 0.7564 - val_loss: 0.5238 - val_accuracy: 0.7303\n",
            "Epoch 155/200\n",
            "6/6 [==============================] - 0s 5ms/step - loss: 0.4705 - accuracy: 0.7592 - val_loss: 0.5246 - val_accuracy: 0.7303\n",
            "Epoch 156/200\n",
            "6/6 [==============================] - 0s 4ms/step - loss: 0.4708 - accuracy: 0.7592 - val_loss: 0.5252 - val_accuracy: 0.7303\n",
            "Epoch 157/200\n",
            "6/6 [==============================] - 0s 4ms/step - loss: 0.4723 - accuracy: 0.7564 - val_loss: 0.5241 - val_accuracy: 0.7303\n",
            "Epoch 158/200\n",
            "6/6 [==============================] - 0s 5ms/step - loss: 0.4721 - accuracy: 0.7592 - val_loss: 0.5258 - val_accuracy: 0.7303\n",
            "Epoch 159/200\n",
            "6/6 [==============================] - 0s 5ms/step - loss: 0.4713 - accuracy: 0.7620 - val_loss: 0.5253 - val_accuracy: 0.7303\n",
            "Epoch 160/200\n",
            "6/6 [==============================] - 0s 5ms/step - loss: 0.4698 - accuracy: 0.7592 - val_loss: 0.5259 - val_accuracy: 0.7303\n",
            "Epoch 161/200\n",
            "6/6 [==============================] - 0s 4ms/step - loss: 0.4698 - accuracy: 0.7592 - val_loss: 0.5260 - val_accuracy: 0.7303\n",
            "Epoch 162/200\n",
            "6/6 [==============================] - 0s 5ms/step - loss: 0.4705 - accuracy: 0.7592 - val_loss: 0.5268 - val_accuracy: 0.7191\n",
            "Epoch 163/200\n",
            "6/6 [==============================] - 0s 5ms/step - loss: 0.4703 - accuracy: 0.7507 - val_loss: 0.5264 - val_accuracy: 0.7191\n",
            "Epoch 164/200\n",
            "6/6 [==============================] - 0s 5ms/step - loss: 0.4699 - accuracy: 0.7620 - val_loss: 0.5260 - val_accuracy: 0.7303\n",
            "Epoch 165/200\n",
            "6/6 [==============================] - 0s 4ms/step - loss: 0.4709 - accuracy: 0.7620 - val_loss: 0.5252 - val_accuracy: 0.7416\n",
            "Epoch 166/200\n",
            "6/6 [==============================] - 0s 5ms/step - loss: 0.4703 - accuracy: 0.7535 - val_loss: 0.5266 - val_accuracy: 0.7191\n",
            "Epoch 167/200\n",
            "6/6 [==============================] - 0s 4ms/step - loss: 0.4692 - accuracy: 0.7592 - val_loss: 0.5280 - val_accuracy: 0.7191\n",
            "Epoch 168/200\n",
            "6/6 [==============================] - 0s 7ms/step - loss: 0.4689 - accuracy: 0.7592 - val_loss: 0.5287 - val_accuracy: 0.7303\n",
            "Epoch 169/200\n",
            "6/6 [==============================] - 0s 5ms/step - loss: 0.4707 - accuracy: 0.7564 - val_loss: 0.5321 - val_accuracy: 0.7191\n",
            "Epoch 170/200\n",
            "6/6 [==============================] - 0s 5ms/step - loss: 0.4704 - accuracy: 0.7564 - val_loss: 0.5298 - val_accuracy: 0.7303\n",
            "Epoch 171/200\n",
            "6/6 [==============================] - 0s 5ms/step - loss: 0.4697 - accuracy: 0.7592 - val_loss: 0.5272 - val_accuracy: 0.7416\n",
            "Epoch 172/200\n",
            "6/6 [==============================] - 0s 5ms/step - loss: 0.4700 - accuracy: 0.7564 - val_loss: 0.5260 - val_accuracy: 0.7416\n",
            "Epoch 173/200\n",
            "6/6 [==============================] - 0s 7ms/step - loss: 0.4695 - accuracy: 0.7535 - val_loss: 0.5282 - val_accuracy: 0.7303\n",
            "Epoch 174/200\n",
            "6/6 [==============================] - 0s 8ms/step - loss: 0.4698 - accuracy: 0.7592 - val_loss: 0.5261 - val_accuracy: 0.7416\n",
            "Epoch 175/200\n",
            "6/6 [==============================] - 0s 5ms/step - loss: 0.4684 - accuracy: 0.7564 - val_loss: 0.5260 - val_accuracy: 0.7303\n",
            "Epoch 176/200\n",
            "6/6 [==============================] - 0s 5ms/step - loss: 0.4683 - accuracy: 0.7592 - val_loss: 0.5267 - val_accuracy: 0.7303\n",
            "Epoch 177/200\n",
            "6/6 [==============================] - 0s 5ms/step - loss: 0.4684 - accuracy: 0.7620 - val_loss: 0.5279 - val_accuracy: 0.7303\n",
            "Epoch 178/200\n",
            "6/6 [==============================] - 0s 6ms/step - loss: 0.4680 - accuracy: 0.7620 - val_loss: 0.5269 - val_accuracy: 0.7303\n",
            "Epoch 179/200\n",
            "6/6 [==============================] - 0s 6ms/step - loss: 0.4677 - accuracy: 0.7592 - val_loss: 0.5252 - val_accuracy: 0.7416\n",
            "Epoch 180/200\n",
            "6/6 [==============================] - 0s 6ms/step - loss: 0.4690 - accuracy: 0.7535 - val_loss: 0.5248 - val_accuracy: 0.7416\n",
            "Epoch 181/200\n",
            "6/6 [==============================] - 0s 6ms/step - loss: 0.4686 - accuracy: 0.7564 - val_loss: 0.5260 - val_accuracy: 0.7303\n",
            "Epoch 182/200\n",
            "6/6 [==============================] - 0s 5ms/step - loss: 0.4681 - accuracy: 0.7649 - val_loss: 0.5245 - val_accuracy: 0.7303\n",
            "Epoch 183/200\n",
            "6/6 [==============================] - 0s 5ms/step - loss: 0.4679 - accuracy: 0.7564 - val_loss: 0.5240 - val_accuracy: 0.7416\n",
            "Epoch 184/200\n",
            "6/6 [==============================] - 0s 5ms/step - loss: 0.4677 - accuracy: 0.7507 - val_loss: 0.5267 - val_accuracy: 0.7303\n",
            "Epoch 185/200\n",
            "6/6 [==============================] - 0s 5ms/step - loss: 0.4672 - accuracy: 0.7564 - val_loss: 0.5285 - val_accuracy: 0.7303\n",
            "Epoch 186/200\n",
            "6/6 [==============================] - 0s 5ms/step - loss: 0.4690 - accuracy: 0.7507 - val_loss: 0.5277 - val_accuracy: 0.7303\n",
            "Epoch 187/200\n",
            "6/6 [==============================] - 0s 5ms/step - loss: 0.4672 - accuracy: 0.7592 - val_loss: 0.5263 - val_accuracy: 0.7416\n",
            "Epoch 188/200\n",
            "6/6 [==============================] - 0s 4ms/step - loss: 0.4668 - accuracy: 0.7535 - val_loss: 0.5260 - val_accuracy: 0.7303\n",
            "Epoch 189/200\n",
            "6/6 [==============================] - 0s 5ms/step - loss: 0.4663 - accuracy: 0.7620 - val_loss: 0.5259 - val_accuracy: 0.7303\n",
            "Epoch 190/200\n",
            "6/6 [==============================] - 0s 5ms/step - loss: 0.4674 - accuracy: 0.7564 - val_loss: 0.5268 - val_accuracy: 0.7416\n",
            "Epoch 191/200\n",
            "6/6 [==============================] - 0s 5ms/step - loss: 0.4662 - accuracy: 0.7564 - val_loss: 0.5285 - val_accuracy: 0.7303\n",
            "Epoch 192/200\n",
            "6/6 [==============================] - 0s 6ms/step - loss: 0.4659 - accuracy: 0.7592 - val_loss: 0.5286 - val_accuracy: 0.7303\n",
            "Epoch 193/200\n",
            "6/6 [==============================] - 0s 5ms/step - loss: 0.4672 - accuracy: 0.7564 - val_loss: 0.5297 - val_accuracy: 0.7303\n",
            "Epoch 194/200\n",
            "6/6 [==============================] - 0s 6ms/step - loss: 0.4662 - accuracy: 0.7592 - val_loss: 0.5296 - val_accuracy: 0.7303\n",
            "Epoch 195/200\n",
            "6/6 [==============================] - 0s 5ms/step - loss: 0.4672 - accuracy: 0.7535 - val_loss: 0.5308 - val_accuracy: 0.7303\n",
            "Epoch 196/200\n",
            "6/6 [==============================] - 0s 4ms/step - loss: 0.4661 - accuracy: 0.7564 - val_loss: 0.5299 - val_accuracy: 0.7303\n",
            "Epoch 197/200\n",
            "6/6 [==============================] - 0s 5ms/step - loss: 0.4661 - accuracy: 0.7564 - val_loss: 0.5274 - val_accuracy: 0.7303\n",
            "Epoch 198/200\n",
            "6/6 [==============================] - 0s 5ms/step - loss: 0.4665 - accuracy: 0.7535 - val_loss: 0.5265 - val_accuracy: 0.7416\n",
            "Epoch 199/200\n",
            "6/6 [==============================] - 0s 5ms/step - loss: 0.4673 - accuracy: 0.7535 - val_loss: 0.5261 - val_accuracy: 0.7416\n",
            "Epoch 200/200\n",
            "6/6 [==============================] - 0s 5ms/step - loss: 0.4658 - accuracy: 0.7592 - val_loss: 0.5257 - val_accuracy: 0.7416\n"
          ],
          "name": "stdout"
        }
      ]
    },
    {
      "cell_type": "code",
      "metadata": {
        "id": "cXfMsoFV85Wi"
      },
      "source": [
        "#plotter for confusion matrix visualisation\n",
        "def result_matrix(matrix_name, matrix_data):\n",
        "    #Set colors\n",
        "    colormap = ListedColormap(['white, green, white, green'])\n",
        "\n",
        "    #Setup plot itself\n",
        "    plt.figure()\n",
        "    plt.matshow(matrix_data)\n",
        "    for i in range(matrix_data.shape[0]):\n",
        "        for j in range(matrix_data.shape[1]):\n",
        "            plt.text(x=j, y=i, s=matrix_data[i,j], va='center', ha='center')\n",
        "    \n",
        "    #Show plot\n",
        "    plt.title(matrix_name)\n",
        "    plt.xlabel('Predicted result')\n",
        "    plt.ylabel('Real result')\n",
        "    plt.show()"
      ],
      "execution_count": null,
      "outputs": []
    },
    {
      "cell_type": "code",
      "metadata": {
        "id": "_nI-O5xSHDS-",
        "colab": {
          "base_uri": "https://localhost:8080/",
          "height": 805
        },
        "outputId": "4534caed-39b2-4046-ef97-e8cf07aeab20"
      },
      "source": [
        "#0 to 1, decimal point\n",
        "print(\"Ranging from 0 to 1\\n\\n\")\n",
        "predicted_data = predicter.predict(x_test)\n",
        "pr_double = predicted_data[:,0]\n",
        "print(pr_double)\n",
        "\n",
        "print('------------\\n\\n')\n",
        "\n",
        "\n",
        "#0 or 1, rounded up if over .5\n",
        "pr_binary = np.zeros(len(pr))\n",
        "pr_binary[pr_double > 0.5] = 1\n",
        "print(\"0 = non-diabetic, 1 = diabetic \\n\\n\", pr_binary)\n",
        "\n",
        "print(\"\\n\")\n",
        "result_matrix = confusion_matrix(y_true=y_test, y_pred=pr_binary)\n",
        "plot_matrix('Post training confusion matrix', result_matrix)"
      ],
      "execution_count": null,
      "outputs": [
        {
          "output_type": "stream",
          "text": [
            "Ranging from 0 to 1\n",
            "\n",
            "\n",
            "[0.9865395  0.25721347 0.07553843 0.5452885  0.7205864  0.644681\n",
            " 0.12384665 0.41319472 0.802073   0.07544389 0.06467184 0.19509277\n",
            " 0.82367045 0.7734399  0.64962214 0.0459643  0.9709698  0.1763753\n",
            " 0.07659182 0.5852673  0.10765299 0.1154882  0.09809238 0.8114289\n",
            " 0.66626287 0.20038286 0.3648213  0.03702858 0.05088681 0.15286806\n",
            " 0.59819365 0.77540696 0.58680093 0.63889295 0.924112   0.6201937\n",
            " 0.8007068  0.19481266 0.19617647 0.5555602  0.9698055  0.4898584\n",
            " 0.75676596 0.45826074 0.30280885 0.8201141  0.5217061  0.49664512\n",
            " 0.80522954 0.12615812 0.9411955  0.11516055 0.35060552 0.13755485\n",
            " 0.17271814 0.6198619  0.95107746 0.08507141 0.7159142  0.34262028\n",
            " 0.9940498  0.6731744  0.24948123 0.70398676 0.2529226  0.5553316\n",
            " 0.92657304 0.18678811 0.3135435  0.8706758  0.17208141 0.97890615\n",
            " 0.80748105 0.12867916 0.23869094 0.73539406 0.99332905 0.4259649\n",
            " 0.23118374 0.86843836 0.15014192 0.08542088 0.0985536  0.8975651\n",
            " 0.5018891  0.71831477 0.24801719 0.77290297 0.54316694]\n",
            "------------\n",
            "\n",
            "\n",
            "0 = non-diabetic, 1 = diabetic \n",
            "\n",
            " [1. 0. 0. 1. 1. 1. 0. 0. 1. 0. 0. 0. 1. 1. 1. 0. 1. 0. 0. 1. 0. 0. 0. 1.\n",
            " 1. 0. 0. 0. 0. 0. 1. 1. 1. 1. 1. 1. 1. 0. 0. 1. 1. 0. 1. 0. 0. 1. 1. 0.\n",
            " 1. 0. 1. 0. 0. 0. 0. 1. 1. 0. 1. 0. 1. 1. 0. 1. 0. 1. 1. 0. 0. 1. 0. 1.\n",
            " 1. 0. 0. 1. 1. 0. 0. 1. 0. 0. 0. 1. 1. 1. 0. 1. 1.]\n",
            "\n",
            "\n"
          ],
          "name": "stdout"
        },
        {
          "output_type": "display_data",
          "data": {
            "text/plain": [
              "<Figure size 432x288 with 0 Axes>"
            ]
          },
          "metadata": {
            "tags": []
          }
        },
        {
          "output_type": "display_data",
          "data": {
            "image/png": "[encoded data removed]",
            "text/plain": [
              "<Figure size 288x288 with 1 Axes>"
            ]
          },
          "metadata": {
            "tags": [],
            "needs_background": "light"
          }
        }
      ]
    },
    {
      "cell_type": "markdown",
      "metadata": {
        "id": "d1l6IrZ3JSpM"
      },
      "source": [
        "#KMean"
      ]
    },
    {
      "cell_type": "markdown",
      "metadata": {
        "id": "s9JVMM90O5uO"
      },
      "source": [
        "If you get error running the box below, try to rerun the box containing \"result_matrix\". Unsure why it acts up at times, but rerunning the aforementioned box (a number of times might be neccesary) fixes the issue. "
      ]
    },
    {
      "cell_type": "code",
      "metadata": {
        "id": "3fsS_t_UJRcU",
        "colab": {
          "base_uri": "https://localhost:8080/",
          "height": 329
        },
        "outputId": "cecf7779-52ec-483e-ab94-4208eb1a3882"
      },
      "source": [
        "#Fit and predict model\n",
        "kmean_model = KMeans(n_clusters=2, random_state=42, algorithm=\"auto\")\n",
        "kmean_model.fit(x_train)\n",
        "kmean_prediction = kmean_model.predict(x_test)\n",
        "\n",
        "#Print and plot result\n",
        "print(\"Accuracy of prediction: \", accuracy_score(y_test, kmean_prediction)*100)\n",
        "kmean_cm = confusion_matrix(y_test, kmean_prediction)\n",
        "result_matrix(\"Post KMean matrix\", kmean_cm)\n",
        "\n",
        "#Unsure as to why the colors are acting up."
      ],
      "execution_count": null,
      "outputs": [
        {
          "output_type": "stream",
          "text": [
            "Accuracy of prediction:  49.43820224719101\n"
          ],
          "name": "stdout"
        },
        {
          "output_type": "display_data",
          "data": {
            "text/plain": [
              "<Figure size 432x288 with 0 Axes>"
            ]
          },
          "metadata": {
            "tags": []
          }
        },
        {
          "output_type": "display_data",
          "data": {
            "image/png": "[encoded data removed]",
            "text/plain": [
              "<Figure size 288x288 with 1 Axes>"
            ]
          },
          "metadata": {
            "tags": [],
            "needs_background": "light"
          }
        }
      ]
    },
    {
      "cell_type": "markdown",
      "metadata": {
        "id": "OmvDEfHCIjEG"
      },
      "source": [
        "#Logistic regression, sigmoid"
      ]
    },
    {
      "cell_type": "markdown",
      "metadata": {
        "id": "igr-M9T9PLlT"
      },
      "source": [
        "If you get error running the box below, try to rerun the box containing \"result_matrix\". Unsure why it acts up at times, but rerunning the aforementioned box (a number of times might be neccesary) fixes the issue. "
      ]
    },
    {
      "cell_type": "code",
      "metadata": {
        "id": "jQu91uUYIlwp",
        "colab": {
          "base_uri": "https://localhost:8080/",
          "height": 329
        },
        "outputId": "890349e1-bbfd-460f-a979-d236fec24339"
      },
      "source": [
        "#Fit and predict model\n",
        "log_model = LogisticRegression(penalty='l2', random_state=0)\n",
        "log_model.fit(x_train, y_train)\n",
        "y_prediction = model.predict(x_test)\n",
        "\n",
        "#Print and plot result\n",
        "print(\"Accuracy of prediction: \", accuracy_score(y_test, y_prediction)*100)\n",
        "log_cm = confusion_matrix(y_test, y_prediction)\n",
        "result_matrix(\"Post logistic regression matrix\", log_cm)"
      ],
      "execution_count": null,
      "outputs": [
        {
          "output_type": "stream",
          "text": [
            "Accuracy of prediction:  73.03370786516854\n"
          ],
          "name": "stdout"
        },
        {
          "output_type": "display_data",
          "data": {
            "text/plain": [
              "<Figure size 432x288 with 0 Axes>"
            ]
          },
          "metadata": {
            "tags": []
          }
        },
        {
          "output_type": "display_data",
          "data": {
            "image/png": "[encoded data removed]",
            "text/plain": [
              "<Figure size 288x288 with 1 Axes>"
            ]
          },
          "metadata": {
            "tags": [],
            "needs_background": "light"
          }
        }
      ]
    }
  ]
}