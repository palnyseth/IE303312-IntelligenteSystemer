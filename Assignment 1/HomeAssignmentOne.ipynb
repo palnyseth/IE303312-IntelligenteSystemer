{
  "nbformat": 4,
  "nbformat_minor": 0,
  "metadata": {
    "colab": {
      "name": "HomeAssignmentOne.ipynb",
      "provenance": [],
      "collapsed_sections": []
    },
    "kernelspec": {
      "name": "python3",
      "display_name": "Python 3"
    }
  },
  "cells": [
    {
      "cell_type": "code",
      "metadata": {
        "id": "QSKerd4d1mp7",
        "colab": {
          "base_uri": "https://localhost:8080/",
          "height": 102
        },
        "outputId": "f52f9655-866b-425b-f0c7-11c37f91c584"
      },
      "source": [
        "import numpy as np\n",
        "import pandas as pd\n",
        "import matplotlib.pyplot as plt\n",
        "import io\n",
        "from google.colab import files\n",
        "!pip install sklearn\n",
        "from sklearn.metrics import mean_squared_error \n",
        "from sklearn.metrics import mean_absolute_error"
      ],
      "execution_count": null,
      "outputs": [
        {
          "output_type": "stream",
          "text": [
            "Requirement already satisfied: sklearn in /usr/local/lib/python3.6/dist-packages (0.0)\n",
            "Requirement already satisfied: scikit-learn in /usr/local/lib/python3.6/dist-packages (from sklearn) (0.22.2.post1)\n",
            "Requirement already satisfied: joblib>=0.11 in /usr/local/lib/python3.6/dist-packages (from scikit-learn->sklearn) (0.16.0)\n",
            "Requirement already satisfied: scipy>=0.17.0 in /usr/local/lib/python3.6/dist-packages (from scikit-learn->sklearn) (1.4.1)\n",
            "Requirement already satisfied: numpy>=1.11.0 in /usr/local/lib/python3.6/dist-packages (from scikit-learn->sklearn) (1.18.5)\n"
          ],
          "name": "stdout"
        }
      ]
    },
    {
      "cell_type": "markdown",
      "metadata": {
        "id": "VBFis_WwSpSh"
      },
      "source": [
        "\n",
        "```\n",
        "Desired outputs:\n",
        "AND: 0 0 0 1 \n",
        "(or)\n",
        "OR:  0 1 1 1 \n",
        "```\n",
        "\n",
        "\n"
      ]
    },
    {
      "cell_type": "markdown",
      "metadata": {
        "id": "CRgrn8IL4F0j"
      },
      "source": [
        "**1. Perceptron for AND & OR logic gates (classification)**"
      ]
    },
    {
      "cell_type": "code",
      "metadata": {
        "id": "RafmjwMa1ZVq"
      },
      "source": [
        "def step(v):\n",
        "  if v >= 0:\n",
        "    return 1\n",
        "  else:\n",
        "    return 0 \n",
        "\n",
        "def perceptronModel(x, w, b):\n",
        "  v = np.dot(w, x) + b\n",
        "  y = step(v)\n",
        "  return y\n",
        "\n",
        "#OR\n",
        "#w1 = 1, w2 = 1, b = -0.5\n",
        "def OR_funct(x):\n",
        "  w = np.array([1, 1])\n",
        "  b = -0.5\n",
        "  return perceptronModel(x, w, b)\n",
        "\n",
        "#AND\n",
        "#w1 = 1, w2 = 1, b = -1.5\n",
        "def AND_funct(x):\n",
        "  w = np.array([1, 1])\n",
        "  b = -1.5\n",
        "  return perceptronModel(x, w, b)\n"
      ],
      "execution_count": null,
      "outputs": []
    },
    {
      "cell_type": "code",
      "metadata": {
        "id": "AhkgE7RQ1_qt",
        "colab": {
          "base_uri": "https://localhost:8080/",
          "height": 187
        },
        "outputId": "6f161489-422c-4d89-8c34-4f7064f66711"
      },
      "source": [
        "test1 = np.array([1, 1])\n",
        "test2 = np.array([0, 1])\n",
        "test3 = np.array([1, 0])\n",
        "test4 = np.array([0, 0])\n",
        "\n",
        "print(\"OR({}, {}) = {}\".format(0, 1, OR_funct(test1))) \n",
        "print(\"OR({}, {}) = {}\".format(1, 1, OR_funct(test2))) \n",
        "print(\"OR({}, {}) = {}\".format(0, 0, OR_funct(test3))) \n",
        "print(\"OR({}, {}) = {}\".format(1, 0, OR_funct(test4))) \n",
        "\n",
        "print('\\n')\n",
        "\n",
        "test1_1 = np.array([0, 1])\n",
        "test2_1 = np.array([1, 1])\n",
        "test3_1 = np.array([0, 0])\n",
        "test4_1 = np.array([1, 0])\n",
        "\n",
        "print(\"AND({}, {}) = {}\".format(0, 1, AND_funct(test1))) \n",
        "print(\"AND({}, {}) = {}\".format(1, 1, AND_funct(test2))) \n",
        "print(\"AND({}, {}) = {}\".format(0, 0, AND_funct(test3))) \n",
        "print(\"AND({}, {}) = {}\".format(1, 0, AND_funct(test4))) "
      ],
      "execution_count": null,
      "outputs": [
        {
          "output_type": "stream",
          "text": [
            "OR(0, 1) = 1\n",
            "OR(1, 1) = 1\n",
            "OR(0, 0) = 1\n",
            "OR(1, 0) = 0\n",
            "\n",
            "\n",
            "AND(0, 1) = 1\n",
            "AND(1, 1) = 0\n",
            "AND(0, 0) = 0\n",
            "AND(1, 0) = 0\n"
          ],
          "name": "stdout"
        }
      ]
    },
    {
      "cell_type": "markdown",
      "metadata": {
        "id": "kF5vHlKJ62r9"
      },
      "source": [
        "**2. Perceptron for regression (salary dataset)**"
      ]
    },
    {
      "cell_type": "code",
      "metadata": {
        "id": "o7RmF4gvPZeF",
        "colab": {
          "base_uri": "https://localhost:8080/",
          "height": 545
        },
        "outputId": "05f078c2-9a81-464b-d8e3-4c3f83a7e621"
      },
      "source": [
        "#files.upload()\n",
        "data = pd.read_csv(\"Salary_Data.csv\")\n",
        "#print(data)\n",
        "#print(data.shape)\n",
        "x = data[\"YearsExperience\"]\n",
        "y = data[\"Annual Salary(Naira)\"]\n",
        "\n",
        "#linear regression\n",
        "def estimate_coef(x, y): \n",
        "    # number of observations/points \n",
        "    n = np.size(x) \n",
        "  \n",
        "    # mean of x and y vector \n",
        "    m_x, m_y = np.mean(x), np.mean(y) \n",
        "  \n",
        "    # calculating cross-deviation and deviation about x \n",
        "    SS_xy = np.sum(y*x) - n*m_y*m_x \n",
        "    SS_xx = np.sum(x*x) - n*m_x*m_x \n",
        "  \n",
        "    # calculating regression coefficients \n",
        "    b_1 = SS_xy / SS_xx \n",
        "    b_0 = m_y - b_1*m_x \n",
        "  \n",
        "    return(b_0, b_1) \n",
        "  \n",
        "def plot_regression_line(x, y, b): \n",
        "    # plotting the actual points as scatter plot \n",
        "    plt.scatter(x, y, color = \"m\", \n",
        "               marker = \"o\", s = 30) \n",
        "  \n",
        "    # predicted response vector \n",
        "    y_pred = b[0] + b[1]*x \n",
        "  \n",
        "    # plotting the regression line \n",
        "    plt.plot(x, y_pred, color = \"g\") \n",
        "  \n",
        "    # putting labels \n",
        "    plt.xlabel('x') \n",
        "    plt.ylabel('y') \n",
        "    plt.legend('actual','regresion')\n",
        "  \n",
        "    # function to show plot \n",
        "    plt.show() \n",
        "\n",
        "b = estimate_coef(x,y)\n",
        "\n",
        "plot_regression_line(x,y,b)"
      ],
      "execution_count": null,
      "outputs": [
        {
          "output_type": "stream",
          "text": [
            "/usr/local/lib/python3.6/dist-packages/ipykernel_launcher.py:40: UserWarning: Legend does not support 'a' instances.\n",
            "A proxy artist may be used instead.\n",
            "See: http://matplotlib.org/users/legend_guide.html#creating-artists-specifically-for-adding-to-the-legend-aka-proxy-artists\n",
            "/usr/local/lib/python3.6/dist-packages/ipykernel_launcher.py:40: UserWarning: Legend does not support 'c' instances.\n",
            "A proxy artist may be used instead.\n",
            "See: http://matplotlib.org/users/legend_guide.html#creating-artists-specifically-for-adding-to-the-legend-aka-proxy-artists\n",
            "/usr/local/lib/python3.6/dist-packages/ipykernel_launcher.py:40: UserWarning: Legend does not support 't' instances.\n",
            "A proxy artist may be used instead.\n",
            "See: http://matplotlib.org/users/legend_guide.html#creating-artists-specifically-for-adding-to-the-legend-aka-proxy-artists\n",
            "/usr/local/lib/python3.6/dist-packages/ipykernel_launcher.py:40: UserWarning: Legend does not support 'u' instances.\n",
            "A proxy artist may be used instead.\n",
            "See: http://matplotlib.org/users/legend_guide.html#creating-artists-specifically-for-adding-to-the-legend-aka-proxy-artists\n",
            "/usr/local/lib/python3.6/dist-packages/ipykernel_launcher.py:40: UserWarning: Legend does not support 'l' instances.\n",
            "A proxy artist may be used instead.\n",
            "See: http://matplotlib.org/users/legend_guide.html#creating-artists-specifically-for-adding-to-the-legend-aka-proxy-artists\n"
          ],
          "name": "stderr"
        },
        {
          "output_type": "display_data",
          "data": {
            "image/png": "[encoded data removed]",
            "text/plain": [
              "<Figure size 432x288 with 1 Axes>"
            ]
          },
          "metadata": {
            "tags": [],
            "needs_background": "light"
          }
        }
      ]
    },
    {
      "cell_type": "markdown",
      "metadata": {
        "id": "I9L9PISa33sf"
      },
      "source": [
        "3."
      ]
    },
    {
      "cell_type": "code",
      "metadata": {
        "id": "qDfSF_rfnxGr",
        "colab": {
          "base_uri": "https://localhost:8080/",
          "height": 561
        },
        "outputId": "6dcb7499-eeb1-4fb5-8ea0-c17989e81f86"
      },
      "source": [
        "data = pd.read_csv(\"Salary_Data.csv\")\n",
        "print (data)"
      ],
      "execution_count": null,
      "outputs": [
        {
          "output_type": "stream",
          "text": [
            "    YearsExperience  Annual Salary(Naira)\n",
            "0               0.0              487500.0\n",
            "1               1.1             1310537.5\n",
            "2               1.3             1396312.5\n",
            "3               1.5             1290387.5\n",
            "4               2.0             1362812.5\n",
            "5               2.2             1317387.5\n",
            "6               2.9             1526775.0\n",
            "7               3.0             1570625.0\n",
            "8               3.2             1499312.5\n",
            "9               3.2             1624312.5\n",
            "10              3.7             1533612.5\n",
            "11              3.9             1608975.0\n",
            "12              4.0             1516175.0\n",
            "13              4.0             1530712.5\n",
            "14              4.1             1532262.5\n",
            "15              4.5             1582637.5\n",
            "16              4.9             1667975.0\n",
            "17              5.1             1644112.5\n",
            "18              5.3             1857350.0\n",
            "19              5.9             1835787.5\n",
            "20              6.0             1993000.0\n",
            "21              6.8             1965475.0\n",
            "22              7.1             2047162.5\n",
            "23              7.9             2085025.0\n",
            "24              8.2             2241400.0\n",
            "25              8.7             2186637.5\n",
            "26              9.0             2138525.0\n",
            "27              9.5             2280862.5\n",
            "28              9.6             2226687.5\n",
            "29             10.3             2348637.5\n",
            "30             10.5             2342150.0\n"
          ],
          "name": "stdout"
        }
      ]
    },
    {
      "cell_type": "code",
      "metadata": {
        "id": "VHiZbgM12h4Z",
        "colab": {
          "base_uri": "https://localhost:8080/",
          "height": 136
        },
        "outputId": "7735fc98-629d-4683-f7c0-e81ffa341bbd"
      },
      "source": [
        "x = data.iloc[1:31, 0].values\n",
        "y = data.iloc[1:31, 1].values\n",
        "\n",
        "print(x,y)"
      ],
      "execution_count": null,
      "outputs": [
        {
          "output_type": "stream",
          "text": [
            "[ 1.1  1.3  1.5  2.   2.2  2.9  3.   3.2  3.2  3.7  3.9  4.   4.   4.1\n",
            "  4.5  4.9  5.1  5.3  5.9  6.   6.8  7.1  7.9  8.2  8.7  9.   9.5  9.6\n",
            " 10.3 10.5] [1310537.5 1396312.5 1290387.5 1362812.5 1317387.5 1526775.  1570625.\n",
            " 1499312.5 1624312.5 1533612.5 1608975.  1516175.  1530712.5 1532262.5\n",
            " 1582637.5 1667975.  1644112.5 1857350.  1835787.5 1993000.  1965475.\n",
            " 2047162.5 2085025.  2241400.  2186637.5 2138525.  2280862.5 2226687.5\n",
            " 2348637.5 2342150. ]\n"
          ],
          "name": "stdout"
        }
      ]
    },
    {
      "cell_type": "markdown",
      "metadata": {
        "id": "YzaijBuK_kNe"
      },
      "source": [
        "Unsure how to implement PLR into the data set as it currently stands.\n",
        "I've tried to find a way that makes certain parts of the data set result in 1 or -1, depending on if salary is within a certain treshold or years experience.\n",
        "\n",
        "However I struggled to find a good way to do this without manipulating the data set, and I wanted to try to find a solution avoiding that. *italicized text*"
      ]
    },
    {
      "cell_type": "markdown",
      "metadata": {
        "id": "dciPOh9O591D"
      },
      "source": [
        "**4. activation functions (sigmoid, linear, hardlim, tanh, ReLU) and their Derivatives and find possible applications (regression, classification, vanishing gradient, etc)**"
      ]
    },
    {
      "cell_type": "markdown",
      "metadata": {
        "id": "8GCSexcv68MO"
      },
      "source": [
        "BinaryStep/Hadlim:\n",
        "\n",
        "Function & it's derivative:\n",
        "\n",
        "![image.png](https://i.imgur.com/aOVjwJl.png)\n",
        "\n",
        "Useful with binary classification as it is either 0 or 1"
      ]
    },
    {
      "cell_type": "code",
      "metadata": {
        "id": "UQJTCRHD61mF",
        "colab": {
          "base_uri": "https://localhost:8080/",
          "height": 295
        },
        "outputId": "b87c7b10-8238-4cd2-9b45-7b6b14ad5a13"
      },
      "source": [
        "def step(x):\n",
        "  return(np.where(x>=0,1,-1))\n",
        "\n",
        "def impulse(x):\n",
        "  return(np.where(x==0,1,0))\n",
        "\n",
        "x = np.arange(-10,10,0.1)\n",
        "y = step(x)\n",
        "\n",
        "plt.plot(x,y,'r-.',linewidth=3.0)\n",
        "plt.plot(x,impulse(x),'g-',linewidth=3.0)\n",
        "plt.title('Step')\n",
        "plt.xlabel('x')\n",
        "plt.xlabel('y')\n",
        "plt.grid()\n",
        "plt.show()"
      ],
      "execution_count": null,
      "outputs": [
        {
          "output_type": "display_data",
          "data": {
            "image/png": "[encoded data removed]",
            "text/plain": [
              "<Figure size 432x288 with 1 Axes>"
            ]
          },
          "metadata": {
            "tags": [],
            "needs_background": "light"
          }
        }
      ]
    },
    {
      "cell_type": "markdown",
      "metadata": {
        "id": "rOnCuHDf6Hxp"
      },
      "source": [
        "Sigmoid:\n",
        "\n",
        "Function & it's derivative:\n",
        "\n",
        "![image.png](https://i.imgur.com/PfA3Ehk.png)\n",
        "\n",
        "Useful with outputs raning from 0 and 1, good with binary **classificiation**"
      ]
    },
    {
      "cell_type": "code",
      "metadata": {
        "id": "iBwmaWWC6tze",
        "colab": {
          "base_uri": "https://localhost:8080/",
          "height": 279
        },
        "outputId": "ac6879ef-83fc-44d6-ac60-663fa97c81a7"
      },
      "source": [
        "def sig(x):\n",
        "  return(np.exp(x)/(1+np.exp(x)))\n",
        "\n",
        "def sig_derivative(x):\n",
        "  return(sig(x)*(1-sig(x)))\n",
        "\n",
        "plt.plot(x,sig(x),'r-', linewidth=3.0)\n",
        "plt.plot(x,sig_derivative(x),'g-', linewidth=3.0)\n",
        "plt.xlabel('x')\n",
        "plt.ylabel('sig(x)')\n",
        "plt.grid()\n",
        "plt.show()"
      ],
      "execution_count": null,
      "outputs": [
        {
          "output_type": "display_data",
          "data": {
            "image/png": "[encoded data removed]",
            "text/plain": [
              "<Figure size 432x288 with 1 Axes>"
            ]
          },
          "metadata": {
            "tags": [],
            "needs_background": "light"
          }
        }
      ]
    },
    {
      "cell_type": "markdown",
      "metadata": {
        "id": "cTWcbviu8rQV"
      },
      "source": [
        "ReLU:\n",
        "\n",
        "Function & it's derivative:\n",
        "\n",
        "![image.png](https://i.imgur.com/AiUN34A.png)\n",
        "\n",
        "It can work with range as x can be \"whatever\"\n",
        "Works well with regression"
      ]
    },
    {
      "cell_type": "code",
      "metadata": {
        "id": "UGOUtYsw8rdD",
        "colab": {
          "base_uri": "https://localhost:8080/",
          "height": 281
        },
        "outputId": "06300ee3-dca2-420a-b8e2-1e5af644607f"
      },
      "source": [
        "# ReLU: Rectifier \n",
        "x = np.arange(-10,10,0.1)\n",
        "\n",
        "def relu_(x):\n",
        "  return(np.maximum(x,0))\n",
        "\n",
        "def softplus_(x):\n",
        "  return(np.log((1+np.exp(x))))\n",
        "\n",
        "def relu_derivative(x):\n",
        "  return(np.where(x>=0,1,0))\n",
        "\n",
        "def softplus_derivative(x):\n",
        "  return(1/(1+np.exp(-x)))\n",
        "\n",
        "plt.subplot(1, 2, 1)\n",
        "plt.plot(x, relu_(x),'r:', linewidth=2.0, label='ReLU')\n",
        "plt.plot(x, relu_derivative(x),'b-', linewidth = 3.0, label='d/dx')\n",
        "plt.legend(loc='upper left')\n",
        "plt.title('ReLu')\n",
        "plt.grid()\n",
        "\n",
        "plt.subplot(1, 2, 2)\n",
        "plt.plot(x, softplus_(x), 'r:', linewidth=2.0, label='softplus')\n",
        "plt.plot(x, softplus_derivative(x),'b-',linewidth = 3.0, label='d/dx')\n",
        "plt.legend(loc='upper left')\n",
        "plt.title('softplus')\n",
        "plt.grid()\n",
        "plt.show()"
      ],
      "execution_count": null,
      "outputs": [
        {
          "output_type": "display_data",
          "data": {
            "image/png": "[encoded data removed]",
            "text/plain": [
              "<Figure size 432x288 with 2 Axes>"
            ]
          },
          "metadata": {
            "tags": [],
            "needs_background": "light"
          }
        }
      ]
    },
    {
      "cell_type": "markdown",
      "metadata": {
        "id": "-jGecKSK-lj9"
      },
      "source": [
        "TanH:\n",
        "\n",
        "Function & it's derivative:\n",
        "\n",
        "![image.png](https://i.imgur.com/6AqoRd3.png)\n"
      ]
    },
    {
      "cell_type": "code",
      "metadata": {
        "id": "eKXz82Yp-zaB",
        "colab": {
          "base_uri": "https://localhost:8080/",
          "height": 279
        },
        "outputId": "b942ceba-9914-4a56-c3fc-4deeae8207d9"
      },
      "source": [
        "# tanh(x)\n",
        "x = np.arange(-10,10,0.1)\n",
        "\n",
        "def tanh(x):\n",
        "  return((np.exp(x)-np.exp(-x))/(np.exp(x)+np.exp(-x)))\n",
        "\n",
        "def tanh_derivative(x):\n",
        "  return(1-tanh(x)**2)\n",
        "\n",
        "plt.plot(x,tanh(x),'r-', linewidth=3.0)\n",
        "plt.plot(x,tanh_derivative(x),'g-', linewidth=3.0)\n",
        "plt.xlabel('x')\n",
        "plt.ylabel('tanh(x)')\n",
        "plt.grid()\n",
        "plt.show()"
      ],
      "execution_count": null,
      "outputs": [
        {
          "output_type": "display_data",
          "data": {
            "image/png": "[encoded data removed]",
            "text/plain": [
              "<Figure size 432x288 with 1 Axes>"
            ]
          },
          "metadata": {
            "tags": [],
            "needs_background": "light"
          }
        }
      ]
    }
  ]
}